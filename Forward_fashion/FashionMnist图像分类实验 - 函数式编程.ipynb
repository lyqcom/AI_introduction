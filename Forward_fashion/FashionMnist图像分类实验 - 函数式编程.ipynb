{
 "cells": [
  {
   "cell_type": "markdown",
   "metadata": {},
   "source": [
    "# FashionMnist图像分类实验"
   ]
  },
  {
   "cell_type": "markdown",
   "metadata": {},
   "source": [
    "本实验主要介绍使用MindSpore开发前馈神经网络，并使用Fashion-MNIST数据集训练和测试模型。"
   ]
  },
  {
   "cell_type": "markdown",
   "metadata": {},
   "source": [
    "## 1、实验目的"
   ]
  },
  {
   "cell_type": "markdown",
   "metadata": {},
   "source": [
    "- 掌握如何使用MindSpore进行简单前馈神经网络的开发。\n",
    "- 了解如何使用MindSpore进行简单图片分类任务的训练。\n",
    "- 了解如何使用MindSpore进行简单图片分类任务的测试和预测。"
   ]
  },
  {
   "cell_type": "markdown",
   "metadata": {},
   "source": [
    "## 2、前馈神经网络原理介绍"
   ]
  },
  {
   "attachments": {
    "image-2.png": {
     "image/png": "[encoded data removed]"
    }
   },
   "cell_type": "markdown",
   "metadata": {},
   "source": [
    "前馈神经网络（feedforward neural network，FNN），简称前馈网络，是人工神经网络的一种。前馈神经网络采用一种单向多层结构。其中每一层包含若干个神经元。在此种神经网络中，各神经元可以接收前一层神经元的信号，并产生输出到下一层。第0层叫输入层，最后一层叫输出层，其他中间层叫做隐含层（或隐藏层、隐层）。隐层可以是一层。也可以是多层。\n",
    "\n",
    "整个网络中无反馈，信号从输入层向输出层单向传播，可用一个有向无环图表示。\n",
    "\n",
    "\n",
    "\n",
    "![image-2.png](attachment:image-2.png)"
   ]
  },
  {
   "cell_type": "markdown",
   "metadata": {},
   "source": [
    "## 3、实验环境"
   ]
  },
  {
   "cell_type": "markdown",
   "metadata": {},
   "source": [
    "- MindSpore 2.0（MindSpore版本会定期更新，本指导也会定期刷新，与版本配套）；\n",
    "- 本案例支持win_x86和Linux系统，CPU/GPU/Ascend均可运行。\n",
    "- 如果在本地运行此实验，请参考《MindSpore环境搭建实验手册》在本地安装MindSpore。"
   ]
  },
  {
   "cell_type": "markdown",
   "metadata": {},
   "source": [
    "## 4、数据处理"
   ]
  },
  {
   "cell_type": "markdown",
   "metadata": {},
   "source": [
    "### 4.1数据集准备"
   ]
  },
  {
   "cell_type": "markdown",
   "metadata": {},
   "source": [
    "Fashion-MNIST是一个替代MNIST手写数字集的图像数据集。 它是由Zalando（一家德国的时尚科技公司）旗下的研究部门提供。其涵盖了来自10种类别的共7万个不同商品的正面图片。Fashion-MNIST的大小、格式和训练集/测试集划分与原始的MNIST完全一致。60000/10000的训练测试数据划分，28x28x1的灰度图片。\n",
    "\n",
    "这里介绍一下经典的MNIST（手写字母）数据集。经典的MNIST数据集包含了大量的手写数字。十几年来，来自机器学习、机器视觉、人工智能、深度学习领域的研究员们把这个数据集作为衡量算法的基准之一。实际上，MNIST数据集已经成为算法作者的必测的数据集之一，但是MNIST数据集太简单了。很多深度学习算法在测试集上的准确率已经达到99.6%。\n",
    "\n",
    "从[Fashion-MNIST GitHub仓库](https://ascend-professional-construction-dataset.obs.cn-north-4.myhuaweicloud.com:443/deep-learning/Fashion-MNIST.zip)下载如下4个文件到本地并解压：\n",
    "\n",
    "```\n",
    "train-images-idx3-ubyte     training set images（47,042,560 bytes）   \n",
    "train-labels-idx1-ubyte     training set labels（61,440 bytes）  \n",
    "t10k-images-idx3-ubyte      test set images (7,843,840 bytes)  \n",
    "t10k-labels-idx1-ubyte      test set labels (12,288 bytes) \n",
    "```"
   ]
  },
  {
   "cell_type": "code",
   "execution_count": 1,
   "metadata": {},
   "outputs": [
    {
     "name": "stdout",
     "output_type": "stream",
     "text": [
      "Downloading data from https://ascend-professional-construction-dataset.obs.cn-north-4.myhuaweicloud.com:443/deep-learning/Fashion-MNIST.zip (28.9 MB)\n",
      "\n",
      "file_sizes: 100%|██████████████████████████| 30.3M/30.3M [00:25<00:00, 1.17MB/s]\n",
      "Extracting zip file...\n",
      "Successfully downloaded / unzipped to ./\n"
     ]
    }
   ],
   "source": [
    "from download import download\n",
    "\n",
    "# 下载MNIST数据集\n",
    "url = \"https://ascend-professional-construction-dataset.obs.cn-north-4.myhuaweicloud.com:443/deep-learning/Fashion-MNIST.zip\"\n",
    "path = download(url, \"./\", kind=\"zip\", replace=True)"
   ]
  },
  {
   "cell_type": "markdown",
   "metadata": {},
   "source": [
    "## 4.2数据加载"
   ]
  },
  {
   "cell_type": "markdown",
   "metadata": {},
   "source": [
    "#### 导入MindSpore模块和辅助模块"
   ]
  },
  {
   "cell_type": "markdown",
   "metadata": {},
   "source": [
    "用到的框架主要包括：\n",
    "\n",
    "- mindspore，用于神经网络的搭建 \n",
    "- numpy，用于处理一些数据 \n",
    "- matplotlib，用于画图、图像展示\n",
    "- struct，用于处理二进制文件"
   ]
  },
  {
   "cell_type": "code",
   "execution_count": 1,
   "metadata": {},
   "outputs": [],
   "source": [
    "import os\n",
    "import struct\n",
    "from easydict import EasyDict as edict\n",
    "import matplotlib.pyplot as plt\n",
    "import numpy as np\n",
    "\n",
    "import mindspore\n",
    "import mindspore.dataset as ds\n",
    "import mindspore.nn as nn\n",
    "#from mindspore import context\n",
    "from mindspore.train import Model, Accuracy\n",
    "from mindspore.train import ModelCheckpoint, CheckpointConfig, LossMonitor\n",
    "from mindspore import Tensor\n",
    "\n",
    "mindspore.set_context(mode=mindspore.GRAPH_MODE, device_target='CPU')"
   ]
  },
  {
   "cell_type": "markdown",
   "metadata": {},
   "source": [
    "#### 变量定义"
   ]
  },
  {
   "cell_type": "code",
   "execution_count": 2,
   "metadata": {},
   "outputs": [],
   "source": [
    "cfg = edict({\n",
    "    'train_size': 60000,    # 训练集大小\n",
    "    'test_size': 10000,     # 测试集大小\n",
    "    'channel': 1,           # 图片通道数\n",
    "    'image_height': 28,     # 图片高度\n",
    "    'image_width': 28,      # 图片宽度\n",
    "    'batch_size': 60,\n",
    "    'num_classes': 10,      # 分类类别\n",
    "    'lr': 0.001,            # 学习率\n",
    "    'epoch_size': 20,       # 训练次数\n",
    "    #此处应该改为自己数据集存储的路径，分别用train和test两个文件夹存储训练数据集和测试数据集\n",
    "    'data_dir_train': os.path.join('./Fashion-MNIST/train/'),\n",
    "    'data_dir_test': os.path.join('./Fashion-MNIST/test/'),\n",
    "    'save_checkpoint_steps': 1,  # 多少步保存一次模型\n",
    "    'keep_checkpoint_max': 3,    # 最多保存多少个模型\n",
    "    'output_directory': './model_fashion',         # 保存模型路径\n",
    "    'output_prefix': \"checkpoint_fashion_forward\"  # 保存模型文件名字\n",
    "})"
   ]
  },
  {
   "cell_type": "markdown",
   "metadata": {},
   "source": [
    "#### 读取并处理数据"
   ]
  },
  {
   "cell_type": "markdown",
   "metadata": {},
   "source": [
    "数据经过数据读取函数read_image后，数据的格式如下：\n",
    "- 训练的图片的二进制格式:\n",
    "```\n",
    "    \n",
    "    [offset] [type]          [value]          [description]\n",
    "    0000     32 bit integer  0x00000803(2051) magic number\n",
    "    0004     32 bit integer  60000            number of images\n",
    "    0008     32 bit integer  28               number of rows\n",
    "    0012     32 bit integer  28               number of columns\n",
    "    0016     unsigned byte   ??               pixel\n",
    "    0017     unsigned byte   ??               pixel\n",
    "    ........\n",
    "    xxxx     unsigned byte   ??               pixel\n",
    "```\n",
    "- 标签的格式：\n",
    "\n",
    "```\n",
    "    [offset] [type]          [value]          [description]\n",
    "    0000     32 bit integer  0x00000801(2049) magic number (MSB first)\n",
    "    0004     32 bit integer  60000            number of items\n",
    "    0008     unsigned byte   ??               label\n",
    "    0009     unsigned byte   ??               label\n",
    "    ........\n",
    "    xxxx     unsigned byte   ??               label\n",
    "    The labels values are 0 to 9.\n",
    "```"
   ]
  },
  {
   "cell_type": "code",
   "execution_count": 3,
   "metadata": {},
   "outputs": [],
   "source": [
    "def read_image(file_name):\n",
    "    file_handle = open(file_name, \"rb\")  # 以二进制打开文档\n",
    "    file_content = file_handle.read()    # 读取到缓冲区中\n",
    "    head = struct.unpack_from('>IIII', file_content, 0)  # 取前4个整数，返回一个元组\n",
    "    offset = struct.calcsize('>IIII')\n",
    "    imgNum = head[1]   # 图片数\n",
    "    width = head[2]    # 宽度\n",
    "    height = head[3]   # 高度\n",
    "    bits = imgNum * width * height      # data一共有60000*28*28个像素值\n",
    "    bitsString = '>' + str(bits) + 'B'  # fmt格式：'>47040000B'\n",
    "    imgs = struct.unpack_from(bitsString, file_content, offset)    # 取data数据，返回一个元组\n",
    "    imgs_array = np.array(imgs).reshape((imgNum, width * height))  # 最后将读取的数据reshape成 【图片数，图片像素】二维数组\n",
    "    return imgs_array\n",
    "\n",
    "\n",
    "def read_label(file_name):\n",
    "    file_handle = open(file_name, \"rb\")  # 以二进制打开文档\n",
    "    file_content = file_handle.read()    # 读取到缓冲区中\n",
    "    head = struct.unpack_from('>II', file_content, 0)  # 取前2个整数，返回一个元组\n",
    "    offset = struct.calcsize('>II')\n",
    "    labelNum = head[1]  # label数\n",
    "    bitsString = '>' + str(labelNum) + 'B'  # fmt格式：'>47040000B'\n",
    "    label = struct.unpack_from(bitsString, file_content, offset)  # 取data数据，返回一个元组\n",
    "    return np.array(label)\n",
    "\n",
    "\n",
    "def get_data():\n",
    "    # 文件获取\n",
    "    train_image = os.path.join(cfg.data_dir_train, 'train-images-idx3-ubyte')\n",
    "    test_image = os.path.join(cfg.data_dir_test, \"t10k-images-idx3-ubyte\")\n",
    "    train_label = os.path.join(cfg.data_dir_train, \"train-labels-idx1-ubyte\")\n",
    "    test_label = os.path.join(cfg.data_dir_test, \"t10k-labels-idx1-ubyte\")\n",
    "    # 读取数据\n",
    "    train_x = read_image(train_image)\n",
    "    test_x = read_image(test_image)\n",
    "    train_y = read_label(train_label)\n",
    "    test_y = read_label(test_label)\n",
    "    return train_x, train_y, test_x, test_y"
   ]
  },
  {
   "cell_type": "markdown",
   "metadata": {},
   "source": [
    "###### 数据预处理和处理结果图片展示"
   ]
  },
  {
   "cell_type": "code",
   "execution_count": 4,
   "metadata": {},
   "outputs": [
    {
     "name": "stdout",
     "output_type": "stream",
     "text": [
      "F:\\jupyterfile2_0\\深度学习\\深度学习\\03 实验指导书\\01前馈神经网络\\源码集\\2. FashionMnist图像分类实验\n"
     ]
    }
   ],
   "source": [
    "print(os.getcwd())"
   ]
  },
  {
   "cell_type": "code",
   "execution_count": 5,
   "metadata": {},
   "outputs": [
    {
     "name": "stdout",
     "output_type": "stream",
     "text": [
      "训练数据集样本数： 60000\n",
      "测试数据集样本数： 10000\n",
      "通道数/图像长/宽： (1, 28, 28)\n",
      "一张图像的标签样式： 9\n"
     ]
    },
    {
     "data": {
      "image/png": "[encoded data removed]",
      "text/plain": [
       "<Figure size 640x480 with 2 Axes>"
      ]
     },
     "metadata": {},
     "output_type": "display_data"
    }
   ],
   "source": [
    "train_x, train_y, test_x, test_y = get_data()\n",
    "# 第一维度是batchsize的数据,第二维度是图像的channel数，第三，第四维度是高和宽\n",
    "train_x = train_x.reshape(-1, 1, cfg.image_height, cfg.image_width)\n",
    "test_x = test_x.reshape(-1, 1, cfg.image_height, cfg.image_width)\n",
    "# 归一化至0和1之间\n",
    "train_x = train_x / 255.0\n",
    "test_x = test_x / 255.0\n",
    "# 修改数据格式\n",
    "train_x = train_x.astype('float32')\n",
    "test_x = test_x.astype('float32')\n",
    "train_y = train_y.astype('int32')\n",
    "test_y = test_y.astype('int32')\n",
    "print('训练数据集样本数：', train_x.shape[0])\n",
    "print('测试数据集样本数：', test_y.shape[0])\n",
    "print('通道数/图像长/宽：', train_x.shape[1:])\n",
    "# 一共10类，用0-9的数字表达类别。\n",
    "print('一张图像的标签样式：', train_y[0])  \n",
    "\n",
    "plt.figure()\n",
    "plt.imshow(train_x[0,0,...])\n",
    "plt.colorbar()\n",
    "plt.grid(False)\n",
    "plt.show()"
   ]
  },
  {
   "cell_type": "markdown",
   "metadata": {},
   "source": [
    "使用MindSpore  GeneratorDataset接口将numpy.ndarray类型的数据转换为Dataset"
   ]
  },
  {
   "cell_type": "code",
   "execution_count": 6,
   "metadata": {
    "scrolled": true
   },
   "outputs": [],
   "source": [
    "# 转换数据类型为Dataset\n",
    "XY_train = list(zip(train_x, train_y))\n",
    "#转换数据和标签为dataset类型，并制定数据为x，标签为y\n",
    "ds_train = ds.GeneratorDataset(XY_train, ['x', 'y'])\n",
    "ds_train = ds_train.shuffle(buffer_size=cfg.train_size).batch(cfg.batch_size, drop_remainder=True)\n",
    "XY_test = list(zip(test_x, test_y))\n",
    "ds_test = ds.GeneratorDataset(XY_test, ['x', 'y'])\n",
    "ds_test = ds_test.shuffle(buffer_size=cfg.test_size).batch(cfg.batch_size, drop_remainder=True)"
   ]
  },
  {
   "cell_type": "markdown",
   "metadata": {},
   "source": [
    "## 5、构建前馈神经网络"
   ]
  },
  {
   "cell_type": "markdown",
   "metadata": {},
   "source": [
    "前馈神经网络是一种最简单的神经网络，各神经元分层排列（其中每一层包含若干个神经元）。每个神经元只与前一层的神经元相连，接收前一层的输出，并输出给下一层，各层间没有反馈。是目前应用最广泛、发展最迅速的人工神经网络之一。第0层叫输入层，最后一层叫输出层，其他中间层叫做隐含层（或隐藏层、隐层）。隐层可以是一层，也可以是多层，是由全连接层堆叠而成。\n"
   ]
  },
  {
   "cell_type": "code",
   "execution_count": 7,
   "metadata": {},
   "outputs": [],
   "source": [
    "# 定义前馈神经网络\n",
    "class Forward_fashion(nn.Cell):\n",
    "    def __init__(self, num_class=10):  # 一共分十类，图片通道数是1\n",
    "        super(Forward_fashion, self).__init__()\n",
    "        self.num_class = num_class\n",
    "        self.flatten = nn.Flatten()\n",
    "        self.fc1 = nn.Dense(cfg.channel * cfg.image_height * cfg.image_width, 128)\n",
    "        self.relu = nn.ReLU()\n",
    "        self.fc2 = nn.Dense(128, self.num_class)\n",
    "\n",
    "    def construct(self, x):\n",
    "        x = self.flatten(x)\n",
    "        x = self.fc1(x)\n",
    "        x = self.relu(x)\n",
    "        x = self.fc2(x)\n",
    "        return x"
   ]
  },
  {
   "cell_type": "markdown",
   "metadata": {},
   "source": [
    "## 6、模型训练"
   ]
  },
  {
   "cell_type": "markdown",
   "metadata": {},
   "source": [
    "使用Fashion-MNIST数据集对上述定义的前馈神经网络模型进行训练。训练策略如下表所示，可以调整训练策略并查看训练效果。\n",
    "\n",
    "batch size|number of epochs\t| learning rate\t|input shape|optimizer\n",
    ":--:|:--:|:--:|:--:|:--:\n",
    "60|20|0.001|(1，28，28)|Adam"
   ]
  },
  {
   "cell_type": "code",
   "execution_count": 8,
   "metadata": {},
   "outputs": [
    {
     "name": "stdout",
     "output_type": "stream",
     "text": [
      "Epoch 1\n",
      "-------------------------------\n",
      "loss: 2.303883  [  0/1000]\n",
      "loss: 0.688535  [100/1000]\n",
      "loss: 0.644044  [200/1000]\n",
      "loss: 0.597733  [300/1000]\n",
      "loss: 0.345605  [400/1000]\n",
      "loss: 0.494008  [500/1000]\n",
      "loss: 0.606153  [600/1000]\n",
      "loss: 0.715933  [700/1000]\n",
      "loss: 0.510643  [800/1000]\n",
      "loss: 0.609743  [900/1000]\n",
      "Test: \n",
      " Accuracy: 81.4%, Avg loss: 0.519025 \n",
      "\n",
      "Epoch 2\n",
      "-------------------------------\n",
      "loss: 0.468256  [  0/1000]\n",
      "loss: 0.367196  [100/1000]\n",
      "loss: 0.675675  [200/1000]\n",
      "loss: 0.360519  [300/1000]\n",
      "loss: 0.455984  [400/1000]\n",
      "loss: 0.365075  [500/1000]\n",
      "loss: 0.476129  [600/1000]\n",
      "loss: 0.544040  [700/1000]\n",
      "loss: 0.312265  [800/1000]\n",
      "loss: 0.313615  [900/1000]\n",
      "Test: \n",
      " Accuracy: 85.3%, Avg loss: 0.417227 \n",
      "\n",
      "Epoch 3\n",
      "-------------------------------\n",
      "loss: 0.311140  [  0/1000]\n",
      "loss: 0.311827  [100/1000]\n",
      "loss: 0.205479  [200/1000]\n",
      "loss: 0.313950  [300/1000]\n",
      "loss: 0.447442  [400/1000]\n",
      "loss: 0.256556  [500/1000]\n",
      "loss: 0.279525  [600/1000]\n",
      "loss: 0.352236  [700/1000]\n",
      "loss: 0.356220  [800/1000]\n",
      "loss: 0.359404  [900/1000]\n",
      "Test: \n",
      " Accuracy: 85.5%, Avg loss: 0.404559 \n",
      "\n",
      "Epoch 4\n",
      "-------------------------------\n",
      "loss: 0.569648  [  0/1000]\n",
      "loss: 0.279995  [100/1000]\n",
      "loss: 0.533972  [200/1000]\n",
      "loss: 0.344137  [300/1000]\n",
      "loss: 0.244929  [400/1000]\n",
      "loss: 0.273203  [500/1000]\n",
      "loss: 0.354709  [600/1000]\n",
      "loss: 0.290645  [700/1000]\n",
      "loss: 0.222639  [800/1000]\n",
      "loss: 0.453341  [900/1000]\n",
      "Test: \n",
      " Accuracy: 86.4%, Avg loss: 0.383996 \n",
      "\n",
      "Epoch 5\n",
      "-------------------------------\n",
      "loss: 0.224591  [  0/1000]\n",
      "loss: 0.470093  [100/1000]\n",
      "loss: 0.371456  [200/1000]\n",
      "loss: 0.361228  [300/1000]\n",
      "loss: 0.315907  [400/1000]\n",
      "loss: 0.221441  [500/1000]\n",
      "loss: 0.274305  [600/1000]\n",
      "loss: 0.276494  [700/1000]\n",
      "loss: 0.304237  [800/1000]\n",
      "loss: 0.289923  [900/1000]\n",
      "Test: \n",
      " Accuracy: 86.4%, Avg loss: 0.373470 \n",
      "\n",
      "Epoch 6\n",
      "-------------------------------\n",
      "loss: 0.334167  [  0/1000]\n",
      "loss: 0.284652  [100/1000]\n",
      "loss: 0.268670  [200/1000]\n",
      "loss: 0.316956  [300/1000]\n",
      "loss: 0.124447  [400/1000]\n",
      "loss: 0.549263  [500/1000]\n",
      "loss: 0.189925  [600/1000]\n",
      "loss: 0.257265  [700/1000]\n",
      "loss: 0.312789  [800/1000]\n",
      "loss: 0.227362  [900/1000]\n",
      "Test: \n",
      " Accuracy: 86.9%, Avg loss: 0.360514 \n",
      "\n",
      "Epoch 7\n",
      "-------------------------------\n",
      "loss: 0.392903  [  0/1000]\n",
      "loss: 0.127159  [100/1000]\n",
      "loss: 0.240692  [200/1000]\n",
      "loss: 0.286538  [300/1000]\n",
      "loss: 0.238843  [400/1000]\n",
      "loss: 0.534701  [500/1000]\n",
      "loss: 0.216198  [600/1000]\n",
      "loss: 0.351317  [700/1000]\n",
      "loss: 0.401748  [800/1000]\n",
      "loss: 0.263327  [900/1000]\n",
      "Test: \n",
      " Accuracy: 87.4%, Avg loss: 0.348145 \n",
      "\n",
      "Epoch 8\n",
      "-------------------------------\n",
      "loss: 0.220606  [  0/1000]\n",
      "loss: 0.314016  [100/1000]\n",
      "loss: 0.176886  [200/1000]\n",
      "loss: 0.334189  [300/1000]\n",
      "loss: 0.387088  [400/1000]\n",
      "loss: 0.445054  [500/1000]\n",
      "loss: 0.462791  [600/1000]\n",
      "loss: 0.359156  [700/1000]\n",
      "loss: 0.159612  [800/1000]\n",
      "loss: 0.154378  [900/1000]\n",
      "Test: \n",
      " Accuracy: 87.3%, Avg loss: 0.348600 \n",
      "\n",
      "Epoch 9\n",
      "-------------------------------\n",
      "loss: 0.354330  [  0/1000]\n",
      "loss: 0.267353  [100/1000]\n",
      "loss: 0.293975  [200/1000]\n",
      "loss: 0.308239  [300/1000]\n",
      "loss: 0.207138  [400/1000]\n",
      "loss: 0.230455  [500/1000]\n",
      "loss: 0.409895  [600/1000]\n",
      "loss: 0.363570  [700/1000]\n",
      "loss: 0.349617  [800/1000]\n",
      "loss: 0.277164  [900/1000]\n",
      "Test: \n",
      " Accuracy: 87.9%, Avg loss: 0.342218 \n",
      "\n",
      "Epoch 10\n",
      "-------------------------------\n",
      "loss: 0.188903  [  0/1000]\n",
      "loss: 0.221380  [100/1000]\n",
      "loss: 0.337043  [200/1000]\n",
      "loss: 0.280638  [300/1000]\n",
      "loss: 0.254546  [400/1000]\n",
      "loss: 0.283740  [500/1000]\n",
      "loss: 0.171080  [600/1000]\n",
      "loss: 0.307611  [700/1000]\n",
      "loss: 0.172479  [800/1000]\n",
      "loss: 0.196946  [900/1000]\n",
      "Test: \n",
      " Accuracy: 88.1%, Avg loss: 0.342361 \n",
      "\n",
      "Epoch 11\n",
      "-------------------------------\n",
      "loss: 0.450312  [  0/1000]\n",
      "loss: 0.253512  [100/1000]\n",
      "loss: 0.289420  [200/1000]\n",
      "loss: 0.257479  [300/1000]\n",
      "loss: 0.467824  [400/1000]\n",
      "loss: 0.232896  [500/1000]\n",
      "loss: 0.305801  [600/1000]\n",
      "loss: 0.410094  [700/1000]\n",
      "loss: 0.187334  [800/1000]\n",
      "loss: 0.234289  [900/1000]\n",
      "Test: \n",
      " Accuracy: 88.4%, Avg loss: 0.338535 \n",
      "\n",
      "Epoch 12\n",
      "-------------------------------\n",
      "loss: 0.160689  [  0/1000]\n",
      "loss: 0.427766  [100/1000]\n",
      "loss: 0.227313  [200/1000]\n",
      "loss: 0.282140  [300/1000]\n",
      "loss: 0.207968  [400/1000]\n",
      "loss: 0.110067  [500/1000]\n",
      "loss: 0.210837  [600/1000]\n",
      "loss: 0.140376  [700/1000]\n",
      "loss: 0.251992  [800/1000]\n",
      "loss: 0.266639  [900/1000]\n",
      "Test: \n",
      " Accuracy: 88.5%, Avg loss: 0.331259 \n",
      "\n",
      "Epoch 13\n",
      "-------------------------------\n",
      "loss: 0.123110  [  0/1000]\n",
      "loss: 0.188150  [100/1000]\n",
      "loss: 0.290953  [200/1000]\n",
      "loss: 0.136000  [300/1000]\n",
      "loss: 0.438722  [400/1000]\n",
      "loss: 0.164527  [500/1000]\n",
      "loss: 0.208380  [600/1000]\n",
      "loss: 0.127175  [700/1000]\n",
      "loss: 0.147013  [800/1000]\n",
      "loss: 0.225758  [900/1000]\n",
      "Test: \n",
      " Accuracy: 88.4%, Avg loss: 0.334666 \n",
      "\n",
      "Epoch 14\n",
      "-------------------------------\n",
      "loss: 0.266380  [  0/1000]\n",
      "loss: 0.317702  [100/1000]\n",
      "loss: 0.291885  [200/1000]\n",
      "loss: 0.213625  [300/1000]\n",
      "loss: 0.158065  [400/1000]\n",
      "loss: 0.103409  [500/1000]\n",
      "loss: 0.221513  [600/1000]\n",
      "loss: 0.372670  [700/1000]\n",
      "loss: 0.268827  [800/1000]\n",
      "loss: 0.170067  [900/1000]\n",
      "Test: \n",
      " Accuracy: 88.6%, Avg loss: 0.329719 \n",
      "\n",
      "Epoch 15\n",
      "-------------------------------\n",
      "loss: 0.222508  [  0/1000]\n",
      "loss: 0.302002  [100/1000]\n",
      "loss: 0.188497  [200/1000]\n",
      "loss: 0.536872  [300/1000]\n",
      "loss: 0.201316  [400/1000]\n",
      "loss: 0.213168  [500/1000]\n",
      "loss: 0.155609  [600/1000]\n",
      "loss: 0.262911  [700/1000]\n",
      "loss: 0.208802  [800/1000]\n",
      "loss: 0.231717  [900/1000]\n",
      "Test: \n",
      " Accuracy: 88.4%, Avg loss: 0.346926 \n",
      "\n",
      "Epoch 16\n",
      "-------------------------------\n",
      "loss: 0.245995  [  0/1000]\n",
      "loss: 0.246287  [100/1000]\n",
      "loss: 0.247398  [200/1000]\n",
      "loss: 0.276136  [300/1000]\n",
      "loss: 0.103064  [400/1000]\n",
      "loss: 0.332702  [500/1000]\n",
      "loss: 0.282397  [600/1000]\n",
      "loss: 0.257163  [700/1000]\n",
      "loss: 0.146622  [800/1000]\n",
      "loss: 0.147840  [900/1000]\n",
      "Test: \n",
      " Accuracy: 88.4%, Avg loss: 0.335808 \n",
      "\n",
      "Epoch 17\n",
      "-------------------------------\n",
      "loss: 0.202204  [  0/1000]\n",
      "loss: 0.252748  [100/1000]\n",
      "loss: 0.130172  [200/1000]\n",
      "loss: 0.227907  [300/1000]\n",
      "loss: 0.107418  [400/1000]\n",
      "loss: 0.255106  [500/1000]\n",
      "loss: 0.099916  [600/1000]\n",
      "loss: 0.054761  [700/1000]\n",
      "loss: 0.144789  [800/1000]\n",
      "loss: 0.237944  [900/1000]\n",
      "Test: \n",
      " Accuracy: 88.7%, Avg loss: 0.333780 \n",
      "\n",
      "Epoch 18\n",
      "-------------------------------\n",
      "loss: 0.129747  [  0/1000]\n",
      "loss: 0.156520  [100/1000]\n",
      "loss: 0.275267  [200/1000]\n",
      "loss: 0.190075  [300/1000]\n",
      "loss: 0.090343  [400/1000]\n",
      "loss: 0.195782  [500/1000]\n",
      "loss: 0.234590  [600/1000]\n",
      "loss: 0.182894  [700/1000]\n",
      "loss: 0.130630  [800/1000]\n",
      "loss: 0.294239  [900/1000]\n",
      "Test: \n",
      " Accuracy: 88.4%, Avg loss: 0.344028 \n",
      "\n",
      "Epoch 19\n",
      "-------------------------------\n",
      "loss: 0.234990  [  0/1000]\n",
      "loss: 0.191134  [100/1000]\n",
      "loss: 0.107335  [200/1000]\n",
      "loss: 0.143282  [300/1000]\n",
      "loss: 0.207389  [400/1000]\n",
      "loss: 0.239559  [500/1000]\n",
      "loss: 0.152707  [600/1000]\n",
      "loss: 0.148297  [700/1000]\n",
      "loss: 0.164777  [800/1000]\n",
      "loss: 0.169202  [900/1000]\n",
      "Test: \n",
      " Accuracy: 88.3%, Avg loss: 0.339985 \n",
      "\n",
      "Epoch 20\n",
      "-------------------------------\n",
      "loss: 0.286035  [  0/1000]\n",
      "loss: 0.355217  [100/1000]\n",
      "loss: 0.104493  [200/1000]\n",
      "loss: 0.072785  [300/1000]\n",
      "loss: 0.291728  [400/1000]\n",
      "loss: 0.187953  [500/1000]\n",
      "loss: 0.100181  [600/1000]\n",
      "loss: 0.127830  [700/1000]\n",
      "loss: 0.257718  [800/1000]\n",
      "loss: 0.149694  [900/1000]\n",
      "Test: \n",
      " Accuracy: 88.4%, Avg loss: 0.350559 \n",
      "\n",
      "Done!\n"
     ]
    }
   ],
   "source": [
    "# 构建网络\n",
    "network = Forward_fashion(cfg.num_classes)\n",
    "# 定义模型的损失函数，优化器\n",
    "net_loss = nn.SoftmaxCrossEntropyWithLogits(sparse=True, reduction=\"mean\")\n",
    "net_opt = nn.Adam(network.trainable_params(), cfg.lr)\n",
    "# 训练模型\n",
    "model = Model(network, loss_fn=net_loss, optimizer=net_opt, metrics={\"acc\"})\n",
    "\n",
    "# 定义用于训练的train_loop函数。\n",
    "def train_loop(model, dataset, loss_fn, optimizer):\n",
    "    # 定义正向计算函数\n",
    "    def forward_fn(data, label):\n",
    "        logits = model(data)\n",
    "        loss = loss_fn(logits, label)\n",
    "        return loss\n",
    "\n",
    "    # 定义微分函数，使用mindspore.value_and_grad获得微分函数grad_fn,输出loss和梯度。\n",
    "    # 由于是对模型参数求导,grad_position 配置为None，传入可训练参数。\n",
    "    grad_fn = mindspore.value_and_grad(forward_fn, None, optimizer.parameters)\n",
    "\n",
    "    # 定义 one-step training函数\n",
    "    def train_step(data, label):\n",
    "        loss, grads = grad_fn(data, label)\n",
    "        optimizer(grads)\n",
    "        return loss\n",
    "\n",
    "    size = dataset.get_dataset_size()\n",
    "    model.set_train()\n",
    "    for batch, (data, label) in enumerate(dataset.create_tuple_iterator()):\n",
    "        #print(type(data),type(label))\n",
    "        loss = train_step(data, label)\n",
    "\n",
    "        if batch % 100 == 0:\n",
    "            loss, current = loss.asnumpy(), batch\n",
    "            print(f\"loss: {loss:>7f}  [{current:>3d}/{size:>3d}]\")\n",
    "\n",
    "# 定义用于测试的test_loop函数。\n",
    "def test_loop(model, dataset, loss_fn):\n",
    "    num_batches = dataset.get_dataset_size()\n",
    "    model.set_train(False)\n",
    "    total, test_loss, correct = 0, 0, 0\n",
    "    for data, label in dataset.create_tuple_iterator():\n",
    "        pred = model(data)\n",
    "        total += len(data)\n",
    "        test_loss += loss_fn(pred, label).asnumpy()\n",
    "        correct += (pred.argmax(1) == label).asnumpy().sum()\n",
    "    test_loss /= num_batches\n",
    "    correct /= total\n",
    "    print(f\"Test: \\n Accuracy: {(100*correct):>0.1f}%, Avg loss: {test_loss:>8f} \\n\")\n",
    "\n",
    "epochs = cfg.epoch_size\n",
    "for t in range(epochs):\n",
    "    print(f\"Epoch {t+1}\\n-------------------------------\")\n",
    "    train_loop(network, ds_train, net_loss, net_opt)\n",
    "    test_loop(network, ds_test, net_loss)\n",
    "print(\"Done!\")"
   ]
  },
  {
   "cell_type": "markdown",
   "metadata": {},
   "source": [
    "## 7、模型预测及可视化"
   ]
  },
  {
   "cell_type": "code",
   "execution_count": 9,
   "metadata": {},
   "outputs": [
    {
     "name": "stdout",
     "output_type": "stream",
     "text": [
      "{'acc': 0.8835341365461847}\n"
     ]
    }
   ],
   "source": [
    "# 使用测试集评估模型，打印总体准确率\n",
    "metric = model.eval(ds_test)\n",
    "print(metric)"
   ]
  },
  {
   "cell_type": "code",
   "execution_count": 10,
   "metadata": {},
   "outputs": [
    {
     "name": "stdout",
     "output_type": "stream",
     "text": [
      "第0个sample预测结果： Ankle boot    真实结果： Ankle boot\n",
      "第1个sample预测结果： Coat    真实结果： Trouser\n",
      "第2个sample预测结果： Dress    真实结果： Dress\n",
      "第3个sample预测结果： Shirt    真实结果： Shirt\n",
      "第4个sample预测结果： Sneaker    真实结果： Sneaker\n",
      "第5个sample预测结果： T-shirt/top    真实结果： T-shirt/top\n",
      "第6个sample预测结果： Bag    真实结果： Bag\n",
      "第7个sample预测结果： Ankle boot    真实结果： Ankle boot\n",
      "第8个sample预测结果： Bag    真实结果： Bag\n",
      "第9个sample预测结果： Trouser    真实结果： Trouser\n",
      "第10个sample预测结果： Dress    真实结果： Dress\n",
      "第11个sample预测结果： Bag    真实结果： Bag\n",
      "第12个sample预测结果： Sandal    真实结果： Sandal\n",
      "第13个sample预测结果： Ankle boot    真实结果： Ankle boot\n",
      "第14个sample预测结果： Bag    真实结果： Bag\n"
     ]
    }
   ],
   "source": [
    "class_names = ['T-shirt/top', 'Trouser', 'Pullover', 'Dress', 'Coat',\n",
    "               'Sandal', 'Shirt', 'Sneaker', 'Bag', 'Ankle boot']\n",
    "\n",
    "#从测试集中取出一组样本，输入模型进行预测\n",
    "test_ = ds_test.create_dict_iterator().__next__()\n",
    "#利用key值选出样本\n",
    "test = Tensor(test_['x'], mindspore.float32)\n",
    "predictions = model.predict(test)\n",
    "softmax = nn.Softmax()\n",
    "predictions = softmax(predictions)\n",
    "predictions = predictions.asnumpy()\n",
    "true_label = test_['y'].asnumpy()\n",
    "\n",
    "for i in range(15):\n",
    "    p_np = predictions[i, :]\n",
    "    pre_label = np.argmax(p_np)\n",
    "    print('第' + str(i) + '个sample预测结果：', class_names[pre_label], '   真实结果：', class_names[true_label[i]])"
   ]
  },
  {
   "cell_type": "markdown",
   "metadata": {},
   "source": [
    "#### 对预测结果可视化"
   ]
  },
  {
   "cell_type": "markdown",
   "metadata": {},
   "source": [
    "预测结果可视化，输入预测结果序列，真实标签序列，以及图片序列。目标是根据预测值对错，让其标签显示为红色或者蓝色。对：标签为蓝色；错：标签为红色。最后预测15个图像与标签，将预测的结果以柱状图形状显示蓝对红错。"
   ]
  },
  {
   "cell_type": "code",
   "execution_count": 11,
   "metadata": {},
   "outputs": [],
   "source": [
    "# -------------------定义可视化函数--------------------------------\n",
    "# 输入预测结果序列，真实标签序列，以及图片序列\n",
    "# 目标是根据预测值对错，让其标签显示为红色或者蓝色。对：标签为蓝色；错：标签为红色\n",
    "def plot_image(predicted_label, true_label, img):\n",
    "    plt.grid(False)\n",
    "    plt.xticks([])\n",
    "    plt.yticks([])\n",
    "    # 显示对应图片\n",
    "    plt.imshow(img, cmap=plt.cm.binary)\n",
    "    # 显示预测结果的颜色，如果对上了是蓝色，否则为红色\n",
    "    if predicted_label == true_label:\n",
    "        color = 'blue'\n",
    "    else:\n",
    "        color = 'red'\n",
    "    # 显示对应标签的格式，样式\n",
    "    plt.xlabel('{},({})'.format(class_names[predicted_label],\n",
    "                                    class_names[true_label]), color=color)"
   ]
  },
  {
   "cell_type": "code",
   "execution_count": 12,
   "metadata": {},
   "outputs": [],
   "source": [
    "# 将预测的结果以柱状图形状显示蓝对红错\n",
    "def plot_value_array(predicted_label, true_label,predicted_array):\n",
    "    plt.grid(False)\n",
    "    plt.xticks([])\n",
    "    plt.yticks([])\n",
    "    this_plot = plt.bar(range(10), predicted_array, color='#777777')\n",
    "    plt.ylim([0, 1])\n",
    "    this_plot[predicted_label].set_color('red')\n",
    "    this_plot[true_label].set_color('blue')"
   ]
  },
  {
   "cell_type": "code",
   "execution_count": 13,
   "metadata": {},
   "outputs": [
    {
     "data": {
      "image/png": "[encoded data removed]",
      "text/plain": [
       "<Figure size 1200x1000 with 30 Axes>"
      ]
     },
     "metadata": {},
     "output_type": "display_data"
    }
   ],
   "source": [
    "# 预测15个图像与标签，并展现出来\n",
    "num_rows = 5\n",
    "num_cols = 3\n",
    "num_images = num_rows * num_cols\n",
    "plt.figure(figsize=(2 * 2 * num_cols, 2 * num_rows))\n",
    "\n",
    "for i in range(num_images):\n",
    "    plt.subplot(num_rows, 2 * num_cols, 2 * i + 1)\n",
    "    pred_np_ = predictions[i, :]\n",
    "    predicted_label = np.argmax(pred_np_)\n",
    "    image_single = test_['x'][i, 0, ...].asnumpy()\n",
    "    plot_image(predicted_label, true_label[i], image_single)\n",
    "    plt.subplot(num_rows, 2 * num_cols, 2 * i + 2)\n",
    "    plot_value_array(predicted_label, true_label[i], pred_np_)\n",
    "plt.show()"
   ]
  }
 ],
 "metadata": {
  "kernelspec": {
   "display_name": "mindspore2_0",
   "language": "python",
   "name": "mindspore2_0"
  },
  "language_info": {
   "codemirror_mode": {
    "name": "ipython",
    "version": 3
   },
   "file_extension": ".py",
   "mimetype": "text/x-python",
   "name": "python",
   "nbconvert_exporter": "python",
   "pygments_lexer": "ipython3",
   "version": "3.8.16"
  }
 },
 "nbformat": 4,
 "nbformat_minor": 4
}
